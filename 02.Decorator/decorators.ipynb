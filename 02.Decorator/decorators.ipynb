{
 "cells": [
  {
   "cell_type": "markdown",
   "id": "fa254214",
   "metadata": {},
   "source": [
    "# Decorators\n",
    "\n",
    "Decorators modify the behaviour of function\n",
    "\n",
    "1.input function\n",
    "2.output function -> wrapper"
   ]
  },
  {
   "cell_type": "code",
   "execution_count": 1,
   "id": "42a34ecc",
   "metadata": {},
   "outputs": [],
   "source": [
    "def welcome(func):\n",
    "    def wrapper(*args, **kwargs):\n",
    "        print(\"Welcome user\")\n",
    "        res = func(*args, **kwargs)\n",
    "        print(f\"Function results:{res}\")\n",
    "        print(\"Thank You\")\n",
    "        return res\n",
    "\n",
    "    return wrapper"
   ]
  },
  {
   "cell_type": "code",
   "execution_count": 2,
   "id": "0c80ee85",
   "metadata": {},
   "outputs": [],
   "source": [
    "import math"
   ]
  },
  {
   "cell_type": "code",
   "execution_count": 3,
   "id": "a5b1467b",
   "metadata": {},
   "outputs": [],
   "source": [
    "@welcome\n",
    "def hypotenuse(a: float, b: float) -> float:\n",
    "    c = math.sqrt(a**2 + b**2)\n",
    "    return c"
   ]
  },
  {
   "cell_type": "code",
   "execution_count": 4,
   "id": "ec33d315",
   "metadata": {},
   "outputs": [
    {
     "name": "stdout",
     "output_type": "stream",
     "text": [
      "Welcome user\n",
      "Function results:5.0\n",
      "Thank You\n"
     ]
    }
   ],
   "source": [
    "h1 = hypotenuse(3.0, 4.0)"
   ]
  },
  {
   "cell_type": "code",
   "execution_count": 5,
   "id": "34cb1f7b",
   "metadata": {},
   "outputs": [
    {
     "name": "stdout",
     "output_type": "stream",
     "text": [
      "Welcome user\n",
      "Function results:7.211102550927978\n",
      "Thank You\n"
     ]
    }
   ],
   "source": [
    "h2 = hypotenuse(6.0, 4.0)"
   ]
  },
  {
   "cell_type": "code",
   "execution_count": 6,
   "id": "019c7737",
   "metadata": {},
   "outputs": [],
   "source": [
    "@welcome\n",
    "def simple_intrest(p: float, n: float, r: float) -> tuple[float, float]:\n",
    "    i = (p * n * r) / 100\n",
    "    a = p + i\n",
    "    return i, a"
   ]
  },
  {
   "cell_type": "code",
   "execution_count": 7,
   "id": "2687eb18",
   "metadata": {},
   "outputs": [
    {
     "name": "stdout",
     "output_type": "stream",
     "text": [
      "Welcome user\n",
      "Function results:(18750.0, 68750.0)\n",
      "Thank You\n"
     ]
    }
   ],
   "source": [
    "i1, a1 = simple_intrest(p=50000.00, n=5.0, r=7.5)"
   ]
  },
  {
   "cell_type": "markdown",
   "id": "c28e6b6e",
   "metadata": {},
   "source": [
    " ## decorator to measure time required for execution"
   ]
  },
  {
   "cell_type": "code",
   "execution_count": 8,
   "id": "9df60a61",
   "metadata": {},
   "outputs": [],
   "source": [
    "import time"
   ]
  },
  {
   "cell_type": "code",
   "execution_count": 9,
   "id": "6c98deb5",
   "metadata": {},
   "outputs": [
    {
     "name": "stdout",
     "output_type": "stream",
     "text": [
      "hello\n",
      "world\n",
      "time reuired for execution:5.003194sec\n"
     ]
    }
   ],
   "source": [
    "start = time.perf_counter()\n",
    "time.sleep(2)\n",
    "print(\"hello\")\n",
    "time.sleep(3)\n",
    "print(\"world\")\n",
    "stop = time.perf_counter()\n",
    "elapsed = stop - start\n",
    "print(f\"time reuired for execution:{elapsed:2f}sec\")"
   ]
  },
  {
   "cell_type": "code",
   "execution_count": 11,
   "id": "f31c0433",
   "metadata": {},
   "outputs": [],
   "source": [
    "def measure_time(func):\n",
    "    def wrapper(*args, **kwargs):\n",
    "        start = time.perf_counter()\n",
    "        res = func(*args, **kwargs)\n",
    "        print(f\"Results:{res}\")\n",
    "        stop = time.perf_counter()\n",
    "        elapsed = stop - start\n",
    "        print(f\"Time required to execute code :{elapsed:.2f}sec\")\n",
    "        return res\n",
    "\n",
    "    return wrapper"
   ]
  },
  {
   "cell_type": "code",
   "execution_count": 12,
   "id": "648eedbb",
   "metadata": {},
   "outputs": [],
   "source": [
    "@measure_time\n",
    "def square(n: int) -> int:\n",
    "    time.sleep(4.5)\n",
    "    return n**2"
   ]
  },
  {
   "cell_type": "code",
   "execution_count": 13,
   "id": "bbe9f8a5",
   "metadata": {},
   "outputs": [
    {
     "name": "stdout",
     "output_type": "stream",
     "text": [
      "Results:100\n",
      "Time required to execute code :4.50sec\n"
     ]
    }
   ],
   "source": [
    "s1 = square(10)"
   ]
  },
  {
   "cell_type": "code",
   "execution_count": 14,
   "id": "cafd4633",
   "metadata": {},
   "outputs": [],
   "source": [
    "@measure_time\n",
    "def square(n: int) -> int:\n",
    "    return n**2"
   ]
  },
  {
   "cell_type": "code",
   "execution_count": 15,
   "id": "6132f628",
   "metadata": {},
   "outputs": [
    {
     "name": "stdout",
     "output_type": "stream",
     "text": [
      "Results:121\n",
      "Time required to execute code :0.00sec\n"
     ]
    }
   ],
   "source": [
    "s1 = square(11)"
   ]
  },
  {
   "cell_type": "code",
   "execution_count": 17,
   "id": "5cc6b290",
   "metadata": {},
   "outputs": [
    {
     "data": {
      "text/plain": [
       "7"
      ]
     },
     "execution_count": 17,
     "metadata": {},
     "output_type": "execute_result"
    }
   ],
   "source": [
    "import random\n",
    "\n",
    "random.randint(1, 10)"
   ]
  },
  {
   "cell_type": "code",
   "execution_count": 18,
   "id": "e8d7b767",
   "metadata": {},
   "outputs": [],
   "source": [
    "@measure_time\n",
    "def square_random(n: int) -> int:\n",
    "    s = random.randint(1, 10)\n",
    "    time.sleep(s)\n",
    "    return n**2"
   ]
  },
  {
   "cell_type": "code",
   "execution_count": 20,
   "id": "145ef082",
   "metadata": {},
   "outputs": [
    {
     "name": "stdout",
     "output_type": "stream",
     "text": [
      "Results:144\n",
      "Time required to execute code :2.00sec\n"
     ]
    }
   ],
   "source": [
    "s2 = square_random(12)"
   ]
  },
  {
   "cell_type": "code",
   "execution_count": null,
   "id": "5c7f1b36",
   "metadata": {},
   "outputs": [],
   "source": []
  }
 ],
 "metadata": {
  "kernelspec": {
   "display_name": "advance_python",
   "language": "python",
   "name": "python3"
  },
  "language_info": {
   "codemirror_mode": {
    "name": "ipython",
    "version": 3
   },
   "file_extension": ".py",
   "mimetype": "text/x-python",
   "name": "python",
   "nbconvert_exporter": "python",
   "pygments_lexer": "ipython3",
   "version": "3.13.7"
  }
 },
 "nbformat": 4,
 "nbformat_minor": 5
}
